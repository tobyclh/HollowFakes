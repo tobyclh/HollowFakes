{
 "cells": [
  {
   "cell_type": "code",
   "execution_count": 1,
   "metadata": {},
   "outputs": [],
   "source": [
    "import os\n",
    "from options.test_options import TestOptions\n",
    "from data import CreateDataLoader\n",
    "from models import create_model\n",
    "from util.visualizer import Visualizer\n",
    "from util import html\n",
    "from util.util import save_image, tensor2im\n",
    "import torch\n",
    "from models.cycle_gan_model import CycleGANModel\n",
    "import matplotlib.pyplot as plt"
   ]
  },
  {
   "cell_type": "code",
   "execution_count": 2,
   "metadata": {},
   "outputs": [
    {
     "name": "stdout",
     "output_type": "stream",
     "text": [
      "------------ Options -------------\n",
      "aspect_ratio: 1.0\n",
      "batchSize: 1\n",
      "checkpoints_dir: ./checkpoints\n",
      "dataroot: None\n",
      "dataset_mode: unaligned\n",
      "display_id: 1\n",
      "display_port: 8097\n",
      "display_server: http://localhost\n",
      "display_winsize: 256\n",
      "fineSize: 256\n",
      "gpu_ids: [0]\n",
      "how_many: 50\n",
      "init_type: normal\n",
      "input_nc: 3\n",
      "isTrain: False\n",
      "loadSize: 286\n",
      "max_dataset_size: inf\n",
      "model: cycle_gan\n",
      "nThreads: 4\n",
      "n_layers_D: 3\n",
      "name: experiment_name\n",
      "ndf: 64\n",
      "ngf: 64\n",
      "no_dropout: False\n",
      "no_flip: False\n",
      "norm: instance\n",
      "ntest: inf\n",
      "output_nc: 3\n",
      "phase: test\n",
      "resize_or_crop: resize_and_crop\n",
      "results_dir: ./results/\n",
      "serial_batches: False\n",
      "suffix: \n",
      "verbose: False\n",
      "which_direction: AtoB\n",
      "which_epoch: latest\n",
      "which_model_netD: basic\n",
      "which_model_netG: resnet_9blocks\n",
      "-------------- End ----------------\n",
      "CustomDatasetDataLoader\n",
      "dataset [SingleImageDataset] was created\n",
      "---------- Networks initialized -------------\n",
      "[Network G] Total number of parameters : 0.009 M\n",
      "-----------------------------------------------\n",
      "model [TestModel] was created\n"
     ]
    }
   ],
   "source": [
    "opt = TestOptions().parse()\n",
    "opt.dataroot = 'datasets/horse2zebra/testA'\n",
    "opt.checkpoints_dir = './checkpoints/'\n",
    "opt.name = 'horse2zebra_pretrained'\n",
    "opt.no_dropout = True\n",
    "opt.model = 'test'\n",
    "opt.dataset_mode = 'single'\n",
    "opt.loadSize = 256\n",
    "opt.nThreads = 1   # test code only supports nThreads = 1\n",
    "opt.batchSize = 1  # test code only supports batchSize = 1\n",
    "opt.serial_batches = True  # no shuffle\n",
    "opt.no_flip = True  # no flip\n",
    "opt.display_id = -1  # no visdom display\n",
    "opt.which_model_netG = 'unet_256'\n",
    "data_loader = CreateDataLoader(opt)\n",
    "dataset = data_loader.load_data()\n",
    "model = create_model(opt)"
   ]
  },
  {
   "cell_type": "code",
   "execution_count": 3,
   "metadata": {},
   "outputs": [],
   "source": [
    "model.netG = model.netG.cuda()\n",
    "data_iter = iter(data_loader)\n",
    "data = next(data_iter)\n",
    "result = model.netG(data['A'])"
   ]
  },
  {
   "cell_type": "code",
   "execution_count": 4,
   "metadata": {},
   "outputs": [
    {
     "data": {
      "text/plain": [
       "torch.Size([1, 3, 256, 256])"
      ]
     },
     "execution_count": 4,
     "metadata": {},
     "output_type": "execute_result"
    }
   ],
   "source": [
    "result.shape"
   ]
  },
  {
   "cell_type": "code",
   "execution_count": 5,
   "metadata": {},
   "outputs": [
    {
     "data": {
      "text/plain": [
       "\n",
       "( 0 , 0 ,.,.) = \n",
       " -3.3063e-02  8.1367e-02 -1.2579e-01  ...  -7.5721e-03 -9.5982e-02  1.6887e-01\n",
       " -7.1538e-02 -4.4906e-01  1.8884e-01  ...  -7.5319e-02  1.1741e-01 -2.1075e-01\n",
       " -2.4753e-01  8.6835e-02 -3.2711e-02  ...   9.5001e-02 -3.3691e-01  1.5564e-01\n",
       "                 ...                   ⋱                   ...                \n",
       " -8.7598e-04 -1.5021e-01 -7.4139e-02  ...  -1.5180e-01  1.6100e-01  4.5171e-02\n",
       " -2.2531e-01  7.0346e-02 -3.1857e-01  ...   2.0313e-01 -1.5244e-01  2.5932e-01\n",
       "  5.0271e-03  1.0920e-01  8.2517e-02  ...   2.1271e-02  1.1574e-01  5.8600e-02\n",
       "\n",
       "( 0 , 1 ,.,.) = \n",
       " -2.4882e-02  1.3183e-01  1.0390e-01  ...  -8.9371e-02  1.6633e-01 -4.1128e-02\n",
       " -1.1253e-01  4.5430e-02 -2.3422e-01  ...   1.4854e-01 -1.5329e-01  7.9890e-02\n",
       "  1.0180e-01 -2.0087e-01  4.6741e-01  ...  -1.7295e-01  2.4164e-01  6.6866e-02\n",
       "                 ...                   ⋱                   ...                \n",
       " -6.6757e-02 -2.1090e-01  6.6643e-02  ...   2.3570e-01  7.6698e-03  5.7357e-02\n",
       " -4.0220e-02 -6.4780e-02  9.8036e-02  ...  -3.3614e-01  4.3950e-01 -4.3232e-02\n",
       "  3.1535e-02 -1.1126e-01 -2.7120e-03  ...  -4.7510e-02 -1.2490e-01  5.6382e-02\n",
       "\n",
       "( 0 , 2 ,.,.) = \n",
       "  7.3668e-02 -1.1081e-01  2.8863e-01  ...  -2.6720e-01  1.6059e-01 -1.2280e-01\n",
       " -1.1388e-02 -1.2208e-01  8.0512e-02  ...  -1.3506e-01  1.9717e-01  2.2231e-01\n",
       "  5.8137e-02  2.5977e-02  1.2955e-01  ...   9.8790e-02  1.4103e-01 -1.2690e-01\n",
       "                 ...                   ⋱                   ...                \n",
       "  1.4918e-01 -7.7329e-02  5.7975e-02  ...   2.9751e-01 -3.1511e-01  3.5730e-01\n",
       " -1.0050e-01  7.8883e-02  3.4075e-01  ...   1.1740e-02  1.9807e-01  9.8427e-02\n",
       "  1.1160e-01  9.8981e-02  6.4994e-02  ...   1.5808e-01 -5.9318e-02 -6.0770e-03\n",
       "[torch.cuda.FloatTensor of size (1,3,256,256) (GPU 0)]"
      ]
     },
     "execution_count": 5,
     "metadata": {},
     "output_type": "execute_result"
    }
   ],
   "source": [
    "#model.netG.module.model.latent.shape\n",
    "latent = model.netG.module.model.latent\n",
    "output = model.netG.module.model.up(latent)\n",
    "output\n"
   ]
  },
  {
   "cell_type": "code",
   "execution_count": 6,
   "metadata": {},
   "outputs": [
    {
     "data": {
      "text/plain": [
       "\n",
       "( 0 , 0 ,.,.) = \n",
       " -3.3063e-02  8.1367e-02 -1.2579e-01  ...  -7.5721e-03 -9.5982e-02  1.6887e-01\n",
       " -7.1538e-02 -4.4906e-01  1.8884e-01  ...  -7.5319e-02  1.1741e-01 -2.1075e-01\n",
       " -2.4753e-01  8.6835e-02 -3.2711e-02  ...   9.5001e-02 -3.3691e-01  1.5564e-01\n",
       "                 ...                   ⋱                   ...                \n",
       " -8.7599e-04 -1.5021e-01 -7.4139e-02  ...  -1.5180e-01  1.6100e-01  4.5171e-02\n",
       " -2.2531e-01  7.0346e-02 -3.1857e-01  ...   2.0313e-01 -1.5244e-01  2.5932e-01\n",
       "  5.0271e-03  1.0920e-01  8.2517e-02  ...   2.1271e-02  1.1574e-01  5.8600e-02\n",
       "\n",
       "( 0 , 1 ,.,.) = \n",
       " -2.4882e-02  1.3183e-01  1.0390e-01  ...  -8.9371e-02  1.6633e-01 -4.1128e-02\n",
       " -1.1253e-01  4.5430e-02 -2.3422e-01  ...   1.4855e-01 -1.5329e-01  7.9890e-02\n",
       "  1.0180e-01 -2.0087e-01  4.6741e-01  ...  -1.7295e-01  2.4164e-01  6.6866e-02\n",
       "                 ...                   ⋱                   ...                \n",
       " -6.6757e-02 -2.1090e-01  6.6643e-02  ...   2.3570e-01  7.6698e-03  5.7357e-02\n",
       " -4.0220e-02 -6.4780e-02  9.8036e-02  ...  -3.3614e-01  4.3950e-01 -4.3232e-02\n",
       "  3.1535e-02 -1.1126e-01 -2.7120e-03  ...  -4.7510e-02 -1.2490e-01  5.6382e-02\n",
       "\n",
       "( 0 , 2 ,.,.) = \n",
       "  7.3668e-02 -1.1081e-01  2.8863e-01  ...  -2.6720e-01  1.6059e-01 -1.2280e-01\n",
       " -1.1388e-02 -1.2208e-01  8.0512e-02  ...  -1.3506e-01  1.9717e-01  2.2231e-01\n",
       "  5.8137e-02  2.5977e-02  1.2955e-01  ...   9.8790e-02  1.4103e-01 -1.2690e-01\n",
       "                 ...                   ⋱                   ...                \n",
       "  1.4918e-01 -7.7328e-02  5.7975e-02  ...   2.9751e-01 -3.1511e-01  3.5730e-01\n",
       " -1.0050e-01  7.8883e-02  3.4075e-01  ...   1.1740e-02  1.9807e-01  9.8427e-02\n",
       "  1.1160e-01  9.8981e-02  6.4994e-02  ...   1.5808e-01 -5.9318e-02 -6.0770e-03\n",
       "[torch.cuda.FloatTensor of size (1,3,256,256) (GPU 0)]"
      ]
     },
     "execution_count": 6,
     "metadata": {},
     "output_type": "execute_result"
    }
   ],
   "source": [
    "result"
   ]
  },
  {
   "cell_type": "code",
   "execution_count": 7,
   "metadata": {},
   "outputs": [
    {
     "data": {
      "text/plain": [
       "\n",
       "1.00000e-08 *\n",
       "  3.8430\n",
       "[torch.cuda.FloatTensor of size () (GPU 0)]"
      ]
     },
     "execution_count": 7,
     "metadata": {},
     "output_type": "execute_result"
    }
   ],
   "source": [
    "(output - result).abs().mean()"
   ]
  },
  {
   "cell_type": "code",
   "execution_count": null,
   "metadata": {},
   "outputs": [],
   "source": []
  }
 ],
 "metadata": {
  "kernelspec": {
   "display_name": "Python 3",
   "language": "python",
   "name": "python3"
  },
  "language_info": {
   "codemirror_mode": {
    "name": "ipython",
    "version": 3
   },
   "file_extension": ".py",
   "mimetype": "text/x-python",
   "name": "python",
   "nbconvert_exporter": "python",
   "pygments_lexer": "ipython3",
   "version": "3.6.4"
  }
 },
 "nbformat": 4,
 "nbformat_minor": 2
}
